{
 "cells": [
  {
   "cell_type": "code",
   "execution_count": 1,
   "metadata": {},
   "outputs": [],
   "source": [
    "#Case Study on Human Activity Recognition using Decision Tree"
   ]
  },
  {
   "cell_type": "code",
   "execution_count": 2,
   "metadata": {},
   "outputs": [],
   "source": [
    "import pandas as pd\n",
    "import os\n",
    "\n",
    "subjects_df=pd.DataFrame()\n",
    "#data_dir=\"C:\\Users\\Nitin.Keshav\\Desktop\\DataScience\\Assignment-04\\Activity Recognition from Single Chest-Mounted Accelerometer\\\"\n",
    "\n",
    "for a,b,c in os.walk(r'C:\\Users\\Nitin.Keshav\\Desktop\\DataScience\\Assignment-04\\Activity Recognition from Single Chest-Mounted Accelerometer'):\n",
    "    pass\n",
    "\n",
    "\n",
    "\n",
    "    \n",
    "for files in c:\n",
    "    if files.endswith('.csv'):\n",
    "        os.chdir(r'C:\\Users\\Nitin.Keshav\\Desktop\\DataScience\\Assignment-04\\Activity Recognition from Single Chest-Mounted Accelerometer')\n",
    "        df=pd.read_csv(files,delimiter=',',header =None)\n",
    "        df.columns=[\"sequential number\", \"x acceleration\", \"y acceleration\", \"z acceleration\", \"label\"]\n",
    "        df['subject_id']=files.split('.csv')[0]\n",
    "        subjects_df=subjects_df.append(df)\n"
   ]
  },
  {
   "cell_type": "code",
   "execution_count": 3,
   "metadata": {},
   "outputs": [
    {
     "data": {
      "text/html": [
       "<div>\n",
       "<style scoped>\n",
       "    .dataframe tbody tr th:only-of-type {\n",
       "        vertical-align: middle;\n",
       "    }\n",
       "\n",
       "    .dataframe tbody tr th {\n",
       "        vertical-align: top;\n",
       "    }\n",
       "\n",
       "    .dataframe thead th {\n",
       "        text-align: right;\n",
       "    }\n",
       "</style>\n",
       "<table border=\"1\" class=\"dataframe\">\n",
       "  <thead>\n",
       "    <tr style=\"text-align: right;\">\n",
       "      <th></th>\n",
       "      <th>sequential number</th>\n",
       "      <th>x acceleration</th>\n",
       "      <th>y acceleration</th>\n",
       "      <th>z acceleration</th>\n",
       "      <th>label</th>\n",
       "      <th>subject_id</th>\n",
       "    </tr>\n",
       "  </thead>\n",
       "  <tbody>\n",
       "    <tr>\n",
       "      <th>0</th>\n",
       "      <td>0.0</td>\n",
       "      <td>1502</td>\n",
       "      <td>2215</td>\n",
       "      <td>2153</td>\n",
       "      <td>1</td>\n",
       "      <td>1</td>\n",
       "    </tr>\n",
       "    <tr>\n",
       "      <th>1</th>\n",
       "      <td>1.0</td>\n",
       "      <td>1667</td>\n",
       "      <td>2072</td>\n",
       "      <td>2047</td>\n",
       "      <td>1</td>\n",
       "      <td>1</td>\n",
       "    </tr>\n",
       "    <tr>\n",
       "      <th>2</th>\n",
       "      <td>2.0</td>\n",
       "      <td>1611</td>\n",
       "      <td>1957</td>\n",
       "      <td>1906</td>\n",
       "      <td>1</td>\n",
       "      <td>1</td>\n",
       "    </tr>\n",
       "    <tr>\n",
       "      <th>3</th>\n",
       "      <td>3.0</td>\n",
       "      <td>1601</td>\n",
       "      <td>1939</td>\n",
       "      <td>1831</td>\n",
       "      <td>1</td>\n",
       "      <td>1</td>\n",
       "    </tr>\n",
       "    <tr>\n",
       "      <th>4</th>\n",
       "      <td>4.0</td>\n",
       "      <td>1643</td>\n",
       "      <td>1965</td>\n",
       "      <td>1879</td>\n",
       "      <td>1</td>\n",
       "      <td>1</td>\n",
       "    </tr>\n",
       "  </tbody>\n",
       "</table>\n",
       "</div>"
      ],
      "text/plain": [
       "   sequential number  x acceleration  y acceleration  z acceleration  label  \\\n",
       "0                0.0            1502            2215            2153      1   \n",
       "1                1.0            1667            2072            2047      1   \n",
       "2                2.0            1611            1957            1906      1   \n",
       "3                3.0            1601            1939            1831      1   \n",
       "4                4.0            1643            1965            1879      1   \n",
       "\n",
       "  subject_id  \n",
       "0          1  \n",
       "1          1  \n",
       "2          1  \n",
       "3          1  \n",
       "4          1  "
      ]
     },
     "execution_count": 3,
     "metadata": {},
     "output_type": "execute_result"
    }
   ],
   "source": [
    "subjects_df.head()"
   ]
  },
  {
   "cell_type": "code",
   "execution_count": 4,
   "metadata": {},
   "outputs": [
    {
     "name": "stdout",
     "output_type": "stream",
     "text": [
      "Loaded 15 subjects\n"
     ]
    }
   ],
   "source": [
    "print('Loaded %d subjects' % len(subjects_df.subject_id.unique()))"
   ]
  },
  {
   "cell_type": "code",
   "execution_count": 4,
   "metadata": {},
   "outputs": [
    {
     "data": {
      "text/plain": [
       "6"
      ]
     },
     "execution_count": 4,
     "metadata": {},
     "output_type": "execute_result"
    }
   ],
   "source": [
    "subjects_df.shape[1]"
   ]
  },
  {
   "cell_type": "code",
   "execution_count": 8,
   "metadata": {},
   "outputs": [
    {
     "data": {
      "image/png": "[encoded data removed]",
      "text/plain": [
       "<Figure size 432x288 with 1 Axes>"
      ]
     },
     "metadata": {
      "needs_background": "light"
     },
     "output_type": "display_data"
    },
    {
     "data": {
      "image/png": "[encoded data removed]",
      "text/plain": [
       "<Figure size 432x288 with 1 Axes>"
      ]
     },
     "metadata": {
      "needs_background": "light"
     },
     "output_type": "display_data"
    },
    {
     "data": {
      "image/png": "[encoded data removed]",
      "text/plain": [
       "<Figure size 432x288 with 1 Axes>"
      ]
     },
     "metadata": {
      "needs_background": "light"
     },
     "output_type": "display_data"
    },
    {
     "data": {
      "image/png": "[encoded data removed]",
      "text/plain": [
       "<Figure size 432x288 with 1 Axes>"
      ]
     },
     "metadata": {
      "needs_background": "light"
     },
     "output_type": "display_data"
    }
   ],
   "source": [
    "from matplotlib import pyplot\n",
    "# plot the x, y, z acceleration and activities for a single subject\n",
    "def plot_subject(subject):\n",
    "    pyplot.figure()\n",
    "    # create a plot for each column\n",
    "    for col in range(subject.shape[1]):\n",
    "        pyplot.subplot(subject.shape[1], 1, col+1)\n",
    "        pyplot.plot(subject[:,col])\n",
    "        pyplot.show()\n",
    "    # plot activities for a single subject\n",
    "plot_subject(subjects_df[subjects_df.subject_id==\"1\"].iloc[:,:4].values)"
   ]
  },
  {
   "cell_type": "code",
   "execution_count": 5,
   "metadata": {},
   "outputs": [],
   "source": [
    "X = subjects_df[['x acceleration','y acceleration','z acceleration']]\n",
    "y = subjects_df[['label']]"
   ]
  },
  {
   "cell_type": "code",
   "execution_count": 6,
   "metadata": {},
   "outputs": [
    {
     "data": {
      "text/plain": [
       "XGBClassifier(base_score=0.5, booster='gbtree', colsample_bylevel=1,\n",
       "       colsample_bynode=1, colsample_bytree=1, gamma=0, learning_rate=0.1,\n",
       "       max_delta_step=0, max_depth=3, min_child_weight=1, missing=None,\n",
       "       n_estimators=100, n_jobs=1, nthread=None,\n",
       "       objective='binary:logistic', random_state=0, reg_alpha=0,\n",
       "       reg_lambda=1, scale_pos_weight=1, seed=None, silent=None,\n",
       "       subsample=1, verbosity=1)"
      ]
     },
     "execution_count": 6,
     "metadata": {},
     "output_type": "execute_result"
    }
   ],
   "source": [
    "# evaluate the model by splitting into train and test sets\n",
    "from sklearn.model_selection import train_test_split\n",
    "X_train, X_test, y_train, y_test = train_test_split(X, y, test_size=0.30, random_state=12)\n",
    "\n",
    "# calculate cross-validated AUC\n",
    "from sklearn import svm\n",
    "from xgboost import XGBClassifier\n",
    "clf = XGBClassifier()\n",
    "clf"
   ]
  },
  {
   "cell_type": "code",
   "execution_count": null,
   "metadata": {},
   "outputs": [],
   "source": [
    "# use the model to make predictions with the test data\n",
    "clf.fit(X_train, y_train)\n",
    "y_pred = clf.predict(X_test)\n",
    "# Import metrics\n"
   ]
  },
  {
   "cell_type": "code",
   "execution_count": null,
   "metadata": {},
   "outputs": [],
   "source": [
    "from sklearn import metrics\n",
    "# generate evaluation metrics-\n",
    "print(metrics.accuracy_score(y_test, y_pred))"
   ]
  },
  {
   "cell_type": "code",
   "execution_count": 59,
   "metadata": {},
   "outputs": [
    {
     "name": "stdout",
     "output_type": "stream",
     "text": [
      "[[   139    458     13     86    147     21     33    191]\n",
      " [   487 156186   3436   3984   7927   1276    700   9153]\n",
      " [    24   5158   2954   1151   2462    285    174   2002]\n",
      " [   108   4268   1313  29099  12320   2787   1871  13022]\n",
      " [   191   8452   2836  13885  59035   5258   2824  14634]\n",
      " [    22   1336    277   3674   4358   2487    606   2491]\n",
      " [    31    679    188   2369   2434    820   3141   4682]\n",
      " [   183  10404   2285  15652  15412   2979   4942 126267]]\n"
     ]
    }
   ],
   "source": [
    "# Print out the confusion matrix\n",
    "print(metrics.confusion_matrix(y_test, y_pred))"
   ]
  },
  {
   "cell_type": "code",
   "execution_count": 60,
   "metadata": {},
   "outputs": [
    {
     "name": "stdout",
     "output_type": "stream",
     "text": [
      "              precision    recall  f1-score   support\n",
      "\n",
      "           0       0.12      0.13      0.12      1088\n",
      "           1       0.84      0.85      0.84    183149\n",
      "           2       0.22      0.21      0.21     14210\n",
      "           3       0.42      0.45      0.43     64788\n",
      "           4       0.57      0.55      0.56    107115\n",
      "           5       0.16      0.16      0.16     15251\n",
      "           6       0.22      0.22      0.22     14344\n",
      "           7       0.73      0.71      0.72    178124\n",
      "\n",
      "   micro avg       0.66      0.66      0.66    578069\n",
      "   macro avg       0.41      0.41      0.41    578069\n",
      "weighted avg       0.66      0.66      0.66    578069\n",
      "\n"
     ]
    }
   ],
   "source": [
    "# Print out the classification report, and check the f1 score\n",
    "print(metrics.classification_report(y_test, y_pred))"
   ]
  },
  {
   "cell_type": "code",
   "execution_count": 62,
   "metadata": {},
   "outputs": [],
   "source": [
    "y_pred=pd.DataFrame(data=y_pred,columns=['Predicted'])\n",
    "id = pd.DataFrame(data=X_test.index.values,columns=['ID'])\n",
    "output=pd.concat([id,y_pred],axis=1)\n",
    "output.to_csv('XGBoost_Casestudy_2_Session23.csv',index=False)"
   ]
  },
  {
   "cell_type": "code",
   "execution_count": null,
   "metadata": {},
   "outputs": [],
   "source": []
  }
 ],
 "metadata": {
  "kernelspec": {
   "display_name": "Python 3",
   "language": "python",
   "name": "python3"
  },
  "language_info": {
   "codemirror_mode": {
    "name": "ipython",
    "version": 3
   },
   "file_extension": ".py",
   "mimetype": "text/x-python",
   "name": "python",
   "nbconvert_exporter": "python",
   "pygments_lexer": "ipython3",
   "version": "3.7.1"
  }
 },
 "nbformat": 4,
 "nbformat_minor": 2
}
